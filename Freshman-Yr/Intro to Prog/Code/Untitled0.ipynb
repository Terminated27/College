{
  "cells": [
    {
      "cell_type": "code",
      "execution_count": 2,
      "metadata": {
        "colab": {
          "base_uri": "https://localhost:8080/"
        },
        "id": "yvpcePXRDW1c",
        "outputId": "083a26b2-6dfc-45b2-ce9e-8e4c80636aac"
      },
      "outputs": [
        {
          "name": "stdout",
          "output_type": "stream",
          "text": [
            "hello world\n"
          ]
        }
      ],
      "source": [
        "print(\"hello world\")"
      ]
    },
    {
      "cell_type": "code",
      "execution_count": 3,
      "metadata": {
        "colab": {
          "base_uri": "https://localhost:8080/"
        },
        "id": "Zf5byY87EHDF",
        "outputId": "e2a17f21-0631-46c6-ac8d-60864ff0c55e"
      },
      "outputs": [],
      "source": [
        "A=input(\"Name\")"
      ]
    },
    {
      "cell_type": "code",
      "execution_count": 4,
      "metadata": {
        "colab": {
          "base_uri": "https://localhost:8080/"
        },
        "id": "gavKEQlZEMWx",
        "outputId": "f06b93ba-9367-492c-ff04-27a12b9249be"
      },
      "outputs": [
        {
          "name": "stdout",
          "output_type": "stream",
          "text": [
            "hello Aidan\n"
          ]
        }
      ],
      "source": [
        "print(\"hello \" + A)"
      ]
    }
  ],
  "metadata": {
    "colab": {
      "provenance": []
    },
    "kernelspec": {
      "display_name": "Python 3",
      "language": "python",
      "name": "python3"
    },
    "language_info": {
      "codemirror_mode": {
        "name": "ipython",
        "version": 3
      },
      "file_extension": ".py",
      "mimetype": "text/x-python",
      "name": "python",
      "nbconvert_exporter": "python",
      "pygments_lexer": "ipython3",
      "version": "3.11.1"
    },
    "vscode": {
      "interpreter": {
        "hash": "03da72dbe809bd75c212c1b31ab34c0e3f7febd5e0556ab0af77efbf736f3bbe"
      }
    }
  },
  "nbformat": 4,
  "nbformat_minor": 0
}
