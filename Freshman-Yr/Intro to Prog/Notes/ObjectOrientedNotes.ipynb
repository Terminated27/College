{
 "cells": [
  {
   "attachments": {},
   "cell_type": "markdown",
   "metadata": {},
   "source": [
    "POP procedural oriented programming\n",
    "OOP object oriented programming\n",
    "\n",
    "POP:\n",
    "Prog divided into functions\n",
    "intuitive incremental top down design\n",
    "complex code\n",
    "OOP:\n",
    "program dicided into objects\n",
    "object focused bottom up design\n",
    "complex design (abstraction)\n",
    "OOP increases readablilty of code\n",
    "\n",
    "POP can be decomposed into \n",
    "1 set of class\n",
    "2 set of functions that operate on data\n",
    "3 the main program\n",
    "\n",
    "issues\n",
    "consider box of type rectangel with attributes w, h\n",
    "in order to compute the area we may want to create a computer_area function using box as argument\n",
    "if in the same code we now want to xconsider an object hole of type circle with attribute r for radius and we do want to compue the area\n",
    "we would need to rename the function above to rectange specific and circle specific\n",
    "becomes complex to manage if we have tens of shapes"
   ]
  },
  {
   "cell_type": "code",
   "execution_count": 1,
   "metadata": {},
   "outputs": [
    {
     "name": "stdout",
     "output_type": "stream",
     "text": [
      "area = 20000\n"
     ]
    }
   ],
   "source": [
    "#POP\n",
    "class Rectangle:\n",
    "    def __init__(self,width=0,height=0):\n",
    "        self.w=width\n",
    "        self.h=height\n",
    "\n",
    "def compute_area(rect):\n",
    "    return rect.w*rect.h\n",
    "\n",
    "box1=Rectangle(200,100)\n",
    "a=compute_area(box1)\n",
    "print(\"area =\", a)"
   ]
  },
  {
   "cell_type": "code",
   "execution_count": 6,
   "metadata": {},
   "outputs": [
    {
     "ename": "TypeError",
     "evalue": "Rectangle.compute_area() takes 1 positional argument but 2 were given",
     "output_type": "error",
     "traceback": [
      "\u001b[1;31m---------------------------------------------------------------------------\u001b[0m",
      "\u001b[1;31mTypeError\u001b[0m                                 Traceback (most recent call last)",
      "Cell \u001b[1;32mIn[6], line 12\u001b[0m\n\u001b[0;32m      9\u001b[0m         \u001b[39mreturn\u001b[39;00m \u001b[39mself\u001b[39m\u001b[39m.\u001b[39mw\u001b[39m*\u001b[39m\u001b[39mself\u001b[39m\u001b[39m.\u001b[39mh\n\u001b[0;32m     11\u001b[0m box1\u001b[39m=\u001b[39mRectangle(\u001b[39m200\u001b[39m,\u001b[39m100\u001b[39m)\n\u001b[1;32m---> 12\u001b[0m a\u001b[39m=\u001b[39mbox1\u001b[39m.\u001b[39;49mcompute_area(box1)\n\u001b[0;32m     13\u001b[0m \u001b[39mprint\u001b[39m(\u001b[39m\"\u001b[39m\u001b[39marea =\u001b[39m\u001b[39m\"\u001b[39m, a)\n",
      "\u001b[1;31mTypeError\u001b[0m: Rectangle.compute_area() takes 1 positional argument but 2 were given"
     ]
    }
   ],
   "source": [
    "#OOP\n",
    "#POP\n",
    "class Rectangle:\n",
    "    def __init__(self,width=0,height=0):\n",
    "        self.w=width\n",
    "        self.h=height\n",
    "        \n",
    "    def compute_area(self):\n",
    "        return self.w*self.h\n",
    "\n",
    "box1=Rectangle(200,100)\n",
    "a=box1.compute_area(box1)\n",
    "print(\"area =\", a)"
   ]
  },
  {
   "cell_type": "code",
   "execution_count": 14,
   "metadata": {},
   "outputs": [
    {
     "name": "stdout",
     "output_type": "stream",
     "text": [
      "w=100; h=100\n",
      "area= 10000\n",
      "w=200; h=200\n",
      "new area= 40000\n",
      "area= 160000\n",
      "area= 160000\n",
      "area= 160000\n",
      "area= 160000\n",
      "area= 160000\n",
      "area= 160000\n",
      "area= 160000\n",
      "area= 160000\n",
      "area= 160000\n",
      "area= 160000\n"
     ]
    }
   ],
   "source": [
    "class Rectangle:\n",
    "    def __init__(self,width=0,height=0):\n",
    "        self.w=width\n",
    "        self.h=height\n",
    "    def compute_area(self):\n",
    "        return self.w*self.h\n",
    "    def info(self):\n",
    "        print(f\"w={self.w}; h={self.h}\")\n",
    "    def scale(self, factor):\n",
    "        self.w=self.w*factor\n",
    "        self.h=self.h*factor\n",
    "    def get_scaled_rectangle(self,factor):\n",
    "        return Rectangle(self.w*factor,self.h*factor)\n",
    "\n",
    "box1=Rectangle(100,100)\n",
    "box1.info()\n",
    "a=box1.compute_area()\n",
    "print(\"area=\", a)\n",
    "box1.scale(2)\n",
    "a=box1.compute_area()\n",
    "box1.info()\n",
    "print(\"new area=\", a)\n",
    "\n",
    "for i in range(10):\n",
    "    box=box1.get_scaled_rectangle(2)\n",
    "    a=box.compute_area()\n",
    "    print('area=',a)\n"
   ]
  },
  {
   "cell_type": "markdown",
   "metadata": {},
   "source": []
  },
  {
   "cell_type": "code",
   "execution_count": 6,
   "metadata": {},
   "outputs": [
    {
     "name": "stdout",
     "output_type": "stream",
     "text": [
      "[0 1 2 3 4 5 6 7 8 9]\n",
      "[ 1.   2.8  4.6  6.4  8.2 10. ]\n",
      "[[0. 0.]\n",
      " [0. 0.]]\n",
      "[0. 0. 0. 0.]\n"
     ]
    }
   ],
   "source": [
    "import numpy as np\n",
    "f = np.arange(10)\n",
    "print(f)\n",
    "f = np.linspace(1,10,6)\n",
    "print(f)\n",
    "f = np.zeros(4)\n",
    "A = np.zeros((2,2))\n",
    "print(A)\n",
    "print(f)"
   ]
  }
 ],
 "metadata": {
  "kernelspec": {
   "display_name": "Python 3",
   "language": "python",
   "name": "python3"
  },
  "language_info": {
   "codemirror_mode": {
    "name": "ipython",
    "version": 3
   },
   "file_extension": ".py",
   "mimetype": "text/x-python",
   "name": "python",
   "nbconvert_exporter": "python",
   "pygments_lexer": "ipython3",
   "version": "3.11.1"
  },
  "orig_nbformat": 4,
  "vscode": {
   "interpreter": {
    "hash": "03da72dbe809bd75c212c1b31ab34c0e3f7febd5e0556ab0af77efbf736f3bbe"
   }
  }
 },
 "nbformat": 4,
 "nbformat_minor": 2
}
