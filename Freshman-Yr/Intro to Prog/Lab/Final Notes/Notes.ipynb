{
 "cells": [
  {
   "cell_type": "code",
   "execution_count": null,
   "metadata": {},
   "outputs": [],
   "source": [
    "class Fraction:\n",
    "    def __init__(self,n=1,d=1):\n",
    "        self.n = n\n",
    "        self.d = d\n",
    "        \n",
    "    def __str__ (self)\n",
    "        return str(self.n)+\"|\"+ str(self.d)\n",
    "    def flip(self):\n",
    "        self.n, self.d = self.d, self.n\n",
    "    def product(self, f):\n",
    "        return Fraction(self.n*f.n,self.d*f.d)\n",
    "    @staticmethod\n",
    "    def product2(f1,f2):\n",
    "        return Fraction(f1.n*f2.n, f1.d*f2.d)\n",
    "    \n",
    "f1 = Fraction(2,3)\n",
    "f2 = Fraction()\n",
    "print(f1.n,f1.d)\n"
   ]
  }
 ],
 "metadata": {
  "language_info": {
   "name": "python"
  },
  "orig_nbformat": 4
 },
 "nbformat": 4,
 "nbformat_minor": 2
}
