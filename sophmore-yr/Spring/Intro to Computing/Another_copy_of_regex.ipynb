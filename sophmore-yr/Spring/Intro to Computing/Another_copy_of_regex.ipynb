{
  "cells": [
    {
      "cell_type": "code",
      "execution_count": 1,
      "metadata": {
        "colab": {
          "base_uri": "https://localhost:8080/"
        },
        "id": "aSJDYfy1FbAK",
        "outputId": "ece62a33-87a9-490b-9625-ba4cd5276f5f"
      },
      "outputs": [
        {
          "name": "stdout",
          "output_type": "stream",
          "text": [
            "INSTRUCTIONS: \n",
            " This Colab document has been shared as a view document only: you can execute the code in each cell but you can not edit it.\n",
            "\n",
            " To play around with different regex formulations:\n",
            "1) Download the colab file\n",
            "2) Sign into a google account in your computer\n",
            "3) Click the link: https://colab.research.google.com\n",
            "4) Navigate to the upload tab\n",
            "5) Upload the colab file you downloaded\n",
            "6) Enjoy regex:)\n"
          ]
        }
      ],
      "source": [
        "# INSTRUCTIONS\n",
        "print(\"INSTRUCTIONS:\",\"\\n\",\"This Colab document has been shared as a view document only: you can execute the code in each cell but you can not edit it.\")\n",
        "print(\"\\n\",\"To play around with different regex formulations:\")\n",
        "print(\"1) Download the colab file\")\n",
        "print(\"2) Sign into a google account in your computer\")\n",
        "print(\"3) Click the link: https://colab.research.google.com\")\n",
        "print(\"4) Navigate to the upload tab\")\n",
        "print(\"5) Upload the colab file you downloaded\")\n",
        "print(\"6) Enjoy regex:)\")"
      ]
    },
    {
      "cell_type": "code",
      "execution_count": 2,
      "metadata": {
        "id": "QSC7lpKLfZvq"
      },
      "outputs": [],
      "source": [
        "# REGULAR EXPRESSION(REGEX) PYTHON OPERATIONS\n",
        "# Let's introduce a few regex operands that are cross platform i.e. supported in java, javascript, python e.t.c"
      ]
    },
    {
      "cell_type": "code",
      "execution_count": 17,
      "metadata": {
        "colab": {
          "base_uri": "https://localhost:8080/"
        },
        "id": "okjeBQGkezN9",
        "outputId": "05c5d83f-a86e-4178-f4f2-7dbc72d1b8f3"
      },
      "outputs": [
        {
          "name": "stdout",
          "output_type": "stream",
          "text": [
            "Requirement already satisfied: exrex in c:\\users\\aidan\\appdata\\local\\programs\\python\\python311\\lib\\site-packages (0.11.0)\n"
          ]
        },
        {
          "data": {
            "text/plain": [
              "['a', 'b']"
            ]
          },
          "execution_count": 17,
          "metadata": {},
          "output_type": "execute_result"
        }
      ],
      "source": [
        "# 1) |\n",
        "#    Use Case -> A|B, where A and B can be arbitrary Regex.\n",
        "#    Means the regex will match either A or B\n",
        "\n",
        "# Generate examples\n",
        "!pip install exrex\n",
        "import exrex\n",
        "list(exrex.generate('a|b'))"
      ]
    },
    {
      "cell_type": "code",
      "execution_count": 5,
      "metadata": {
        "id": "vJWcv9uVgwXV"
      },
      "outputs": [
        {
          "name": "stdout",
          "output_type": "stream",
          "text": [
            "Requirement already satisfied: exrex in c:\\users\\aidan\\appdata\\local\\programs\\python\\python311\\lib\\site-packages (0.11.0)\n"
          ]
        },
        {
          "data": {
            "text/plain": [
              "['', 'a']"
            ]
          },
          "execution_count": 5,
          "metadata": {},
          "output_type": "execute_result"
        }
      ],
      "source": [
        "# 2) ?\n",
        "#    Use Case -> A? means match either 0 or 1 repetitions of the regex A\n",
        "#    Can be used for expressing a language that only supports empty or unary characters\n",
        "\n",
        "# Generate examples\n",
        "!pip install exrex\n",
        "import exrex\n",
        "list(exrex.generate('a?'))"
      ]
    },
    {
      "cell_type": "code",
      "execution_count": 6,
      "metadata": {
        "id": "33vVftGrhDH0"
      },
      "outputs": [
        {
          "name": "stdout",
          "output_type": "stream",
          "text": [
            "Requirement already satisfied: exrex in c:\\users\\aidan\\appdata\\local\\programs\\python\\python311\\lib\\site-packages (0.11.0)\n"
          ]
        },
        {
          "data": {
            "text/plain": [
              "['ab',\n",
              " 'aab',\n",
              " 'aaab',\n",
              " 'aaaab',\n",
              " 'aaaaab',\n",
              " 'aaaaaab',\n",
              " 'aaaaaaab',\n",
              " 'aaaaaaaab',\n",
              " 'aaaaaaaaab',\n",
              " 'aaaaaaaaaab',\n",
              " 'aaaaaaaaaaab',\n",
              " 'aaaaaaaaaaaab',\n",
              " 'aaaaaaaaaaaaab',\n",
              " 'aaaaaaaaaaaaaab',\n",
              " 'aaaaaaaaaaaaaaab',\n",
              " 'aaaaaaaaaaaaaaaab',\n",
              " 'aaaaaaaaaaaaaaaaab',\n",
              " 'aaaaaaaaaaaaaaaaaab',\n",
              " 'aaaaaaaaaaaaaaaaaaab',\n",
              " 'aaaaaaaaaaaaaaaaaaaab']"
            ]
          },
          "execution_count": 6,
          "metadata": {},
          "output_type": "execute_result"
        }
      ],
      "source": [
        "# 3) +\n",
        "#    Use Case -> A+ means only match non-zero repetitions of the regex A\n",
        "#    Can be used for expressing a language that does not include empty characters\n",
        "#    Note A+B will match non-zero repetitions of A then B e.g. aaaaab\n",
        "\n",
        "# Generate examples\n",
        "!pip install exrex\n",
        "import exrex\n",
        "list(exrex.generate('a+b'))"
      ]
    },
    {
      "cell_type": "code",
      "execution_count": 7,
      "metadata": {
        "id": "_B7EPF77hmQB"
      },
      "outputs": [
        {
          "name": "stdout",
          "output_type": "stream",
          "text": [
            "Requirement already satisfied: exrex in c:\\users\\aidan\\appdata\\local\\programs\\python\\python311\\lib\\site-packages (0.11.0)\n"
          ]
        },
        {
          "data": {
            "text/plain": [
              "['b',\n",
              " 'ab',\n",
              " 'aab',\n",
              " 'aaab',\n",
              " 'aaaab',\n",
              " 'aaaaab',\n",
              " 'aaaaaab',\n",
              " 'aaaaaaab',\n",
              " 'aaaaaaaab',\n",
              " 'aaaaaaaaab',\n",
              " 'aaaaaaaaaab',\n",
              " 'aaaaaaaaaaab',\n",
              " 'aaaaaaaaaaaab',\n",
              " 'aaaaaaaaaaaaab',\n",
              " 'aaaaaaaaaaaaaab',\n",
              " 'aaaaaaaaaaaaaaab',\n",
              " 'aaaaaaaaaaaaaaaab',\n",
              " 'aaaaaaaaaaaaaaaaab',\n",
              " 'aaaaaaaaaaaaaaaaaab',\n",
              " 'aaaaaaaaaaaaaaaaaaab']"
            ]
          },
          "execution_count": 7,
          "metadata": {},
          "output_type": "execute_result"
        }
      ],
      "source": [
        "# 4) *\n",
        "#    Use Case -> A* means match any number of repetitions of regex A\n",
        "#    Can be used for expressing a language that includes any number of characters\n",
        "\n",
        "# Generate examples\n",
        "!pip install exrex\n",
        "import exrex\n",
        "list(exrex.generate('a*b'))"
      ]
    },
    {
      "cell_type": "code",
      "execution_count": 16,
      "metadata": {
        "id": "Z2yJBto7iAby"
      },
      "outputs": [
        {
          "data": {
            "text/plain": [
              "['a',\n",
              " 'ab',\n",
              " 'abb',\n",
              " 'abbb',\n",
              " 'abbbb',\n",
              " 'abbbbb',\n",
              " 'abbbbbb',\n",
              " 'abbbbbbb',\n",
              " 'abbbbbbbb',\n",
              " 'abbbbbbbbb',\n",
              " 'abbbbbbbbbb',\n",
              " 'abbbbbbbbbbb',\n",
              " 'abbbbbbbbbbbb',\n",
              " 'abbbbbbbbbbbbb',\n",
              " 'abbbbbbbbbbbbbb',\n",
              " 'abbbbbbbbbbbbbbb',\n",
              " 'abbbbbbbbbbbbbbbb',\n",
              " 'abbbbbbbbbbbbbbbbb',\n",
              " 'abbbbbbbbbbbbbbbbbb',\n",
              " 'abbbbbbbbbbbbbbbbbbb']"
            ]
          },
          "execution_count": 16,
          "metadata": {},
          "output_type": "execute_result"
        }
      ],
      "source": [
        "\n",
        "import exrex\n",
        "list(exrex.generate('ab*'))"
      ]
    },
    {
      "cell_type": "code",
      "execution_count": 10,
      "metadata": {
        "id": "b8CMEPLQTPMm"
      },
      "outputs": [
        {
          "name": "stdout",
          "output_type": "stream",
          "text": [
            "Requirement already satisfied: exrex in c:\\users\\aidan\\appdata\\local\\programs\\python\\python311\\lib\\site-packages (0.11.0)\n",
            "Parsed: \n",
            "Failed: ba\n",
            "Failed: baab\n",
            "Failed: abaaba\n",
            "Failed: abbbab\n",
            "Parsed: abababab\n",
            "Failed: aaaaabbbbbb\n"
          ]
        }
      ],
      "source": [
        "!pip install exrex\n",
        "import exrex\n",
        "\n",
        "# CHECK REGEX ON LIST OF STRINGS\n",
        "# Consider the language of strings with an even number of a and b characters that you covered in discussion.\n",
        "# The code in this section takes the regex and checks it against a list of strings\n",
        "import re\n",
        "\n",
        "check_strings = [\"\", \"ba\", \"baab\", \"abaaba\", \"abbbab\", \"abababab\", \"aaaaabbbbbb\"] # you can change this as you please\n",
        "\n",
        "# type your regex in the empty string below\n",
        "regex_string = \"(ab)*\" # e.g. regex_string = \"(ab)*\"\n",
        "\n",
        "try:\n",
        "  for s in check_strings:\n",
        "    result = re.fullmatch(regex_string, s)\n",
        "    if result != None:\n",
        "      print(\"Parsed:\", result[0])\n",
        "    else:\n",
        "      print(\"Failed:\", s)\n",
        "except Exception:\n",
        "  print(\"REGEX NOT WELL FORMULATED\")"
      ]
    },
    {
      "cell_type": "code",
      "execution_count": 12,
      "metadata": {
        "id": "3ZTqzLZLLB4J"
      },
      "outputs": [
        {
          "name": "stdout",
          "output_type": "stream",
          "text": [
            "Requirement already satisfied: exrex in c:\\users\\aidan\\appdata\\local\\programs\\python\\python311\\lib\\site-packages (0.11.0)\n",
            "['', 'a,b', 'a,ba,b', 'a,ba,ba,b', 'a,ba,ba,ba,b', 'a,ba,ba,ba,ba,b', 'a,ba,ba,ba,ba,ba,b', 'a,ba,ba,ba,ba,ba,ba,b', 'a,ba,ba,ba,ba,ba,ba,ba,b', 'a,ba,ba,ba,ba,ba,ba,ba,ba,b', 'a,ba,ba,ba,ba,ba,ba,ba,ba,ba,b', 'a,ba,ba,ba,ba,ba,ba,ba,ba,ba,ba,b', 'a,ba,ba,ba,ba,ba,ba,ba,ba,ba,ba,ba,b', 'a,ba,ba,ba,ba,ba,ba,ba,ba,ba,ba,ba,ba,b', 'a,ba,ba,ba,ba,ba,ba,ba,ba,ba,ba,ba,ba,ba,b', 'a,ba,ba,ba,ba,ba,ba,ba,ba,ba,ba,ba,ba,ba,ba,b', 'a,ba,ba,ba,ba,ba,ba,ba,ba,ba,ba,ba,ba,ba,ba,ba,b', 'a,ba,ba,ba,ba,ba,ba,ba,ba,ba,ba,ba,ba,ba,ba,ba,ba,b', 'a,ba,ba,ba,ba,ba,ba,ba,ba,ba,ba,ba,ba,ba,ba,ba,ba,ba,b', 'a,ba,ba,ba,ba,ba,ba,ba,ba,ba,ba,ba,ba,ba,ba,ba,ba,ba,ba,b']\n"
          ]
        }
      ],
      "source": [
        "# GENERATE STRINGS FROM REGEX\n",
        "!pip install exrex\n",
        "import exrex\n",
        "\n",
        "# type your regex in the empty string below\n",
        "regex_string = \"(a*|b*)\" # e.g. regex_string = \"(ab)*\"\n",
        "array = list(exrex.generate(regex_string))\n",
        "if len(array) > 20:\n",
        "  for i in range(20):\n",
        "    print(array[i])\n",
        "else:\n",
        "  print(array)"
      ]
    },
    {
      "cell_type": "code",
      "execution_count": null,
      "metadata": {
        "colab": {
          "base_uri": "https://localhost:8080/"
        },
        "id": "07MbFrH4Eq18",
        "outputId": "b9edb9f1-2e25-4321-faa3-fe2749da4a02"
      },
      "outputs": [
        {
          "name": "stdout",
          "output_type": "stream",
          "text": [
            "More Documentation here: \n",
            " https://docs.python.org/3/library/re.html\n"
          ]
        }
      ],
      "source": [
        "print(\"More Documentation here:\", \"\\n\",\"https://docs.python.org/3/library/re.html\")"
      ]
    }
  ],
  "metadata": {
    "colab": {
      "provenance": []
    },
    "kernelspec": {
      "display_name": "Python 3",
      "name": "python3"
    },
    "language_info": {
      "codemirror_mode": {
        "name": "ipython",
        "version": 3
      },
      "file_extension": ".py",
      "mimetype": "text/x-python",
      "name": "python",
      "nbconvert_exporter": "python",
      "pygments_lexer": "ipython3",
      "version": "3.11.1"
    }
  },
  "nbformat": 4,
  "nbformat_minor": 0
}
