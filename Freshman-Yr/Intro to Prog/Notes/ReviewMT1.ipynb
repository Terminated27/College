{
 "cells": [
  {
   "attachments": {},
   "cell_type": "markdown",
   "metadata": {},
   "source": [
    "Review\n",
    "things to remember\n",
    "special symbols embedded in strings\n",
    " - \\n newline, \\t tab, \\\" quote, %s   \n",
    "ending key words\n",
    "sep=\"\" | end=\"\"\n",
    "input command returns a string, but can be easily converted using int() bool() float()\n",
    "\n",
    "make comments using # and \"\"\"\"\"\""
   ]
  },
  {
   "cell_type": "code",
   "execution_count": 4,
   "metadata": {},
   "outputs": [
    {
     "name": "stdout",
     "output_type": "stream",
     "text": [
      "2+3=5\n"
     ]
    },
    {
     "data": {
      "text/plain": [
       "'test'"
      ]
     },
     "execution_count": 4,
     "metadata": {},
     "output_type": "execute_result"
    }
   ],
   "source": [
    "print(\"2%s3=%s\"%(\"+\",\"5\"))\n",
    "\"\"\"test\"\"\""
   ]
  },
  {
   "attachments": {},
   "cell_type": "markdown",
   "metadata": {},
   "source": [
    "funcitons should never manipulate global variables, except constant: pi, etc\n",
    "interactions iwth your prog must be achieved using the function arguments which can adopt new local names\n",
    "arguments could use keywords and they can be optional with default values"
   ]
  },
  {
   "attachments": {},
   "cell_type": "markdown",
   "metadata": {},
   "source": [
    "alias or copy?\n",
    "list2=list1 = alias = updates with original\n",
    "list2=list1[:] = copy != update with original"
   ]
  },
  {
   "cell_type": "code",
   "execution_count": null,
   "metadata": {},
   "outputs": [],
   "source": [
    "animals = [\"lion\", \"giraffe\", \"elephant\", \"zebra\", \"tiger\"]\n",
    "for i in range(5):\n",
    "    print(animals[i])\n",
    "for i in animals:\n",
    "    print(i)\n",
    "#range function generalized as\n",
    "# range(start,end+inc,inc)\n"
   ]
  },
  {
   "cell_type": "code",
   "execution_count": 5,
   "metadata": {},
   "outputs": [
    {
     "name": "stdout",
     "output_type": "stream",
     "text": [
      "current letter p\n",
      "current letter y\n",
      "current letter t\n",
      "current letter o\n",
      "current letter n\n"
     ]
    }
   ],
   "source": [
    "text = \"python\"\n",
    "for i in range(len(text)):\n",
    "    if text[i] == \"h\":\n",
    "        continue #restart loop\n",
    "    print(\"current letter\", text[i])"
   ]
  },
  {
   "attachments": {},
   "cell_type": "markdown",
   "metadata": {},
   "source": [
    "indefinite loop, loops until a certain condition is met\n",
    "while loops can do everything for loops can, for loop exists to make it quicker for the coder to code\n",
    "sentinel loop, continues until special value is obtained\n",
    "control statements possible (continue and break)\n",
    "loop and a half is useful useing break statement, bypass the need for initialization of the sentinel value."
   ]
  },
  {
   "cell_type": "code",
   "execution_count": 6,
   "metadata": {},
   "outputs": [
    {
     "name": "stdout",
     "output_type": "stream",
     "text": [
      "lion\n",
      "giraffe\n",
      "elephans\n",
      "zebra\n",
      "tiger\n"
     ]
    }
   ],
   "source": [
    "animals = [\"lion\", \"giraffe\", \"elephant\", \"zebra\", \"tiger\"]\n",
    "i = 0\n",
    "while i < 5: #i<=4 also works\n",
    "    print(animals[i])\n",
    "    i = i+1"
   ]
  },
  {
   "attachments": {},
   "cell_type": "markdown",
   "metadata": {},
   "source": [
    "user defined type, also called customized type that regroups different attributes for a given entity\n",
    "\n",
    "re need a new class to define this new type\n",
    "\n",
    "Main advantages\n",
    "equivalent to struct in C\n",
    "passing arguments into functions becomes straightforward ( just pass the object that contains implicitly all the attributes )\n",
    "if you add more attributes, no rewriting needed\n",
    "\n",
    "good practice to create a module for the class object ( usually the same name )"
   ]
  },
  {
   "cell_type": "code",
   "execution_count": 7,
   "metadata": {},
   "outputs": [
    {
     "name": "stdout",
     "output_type": "stream",
     "text": [
      "pete 19\n"
     ]
    }
   ],
   "source": [
    "class Student:\n",
    "    def __init__(self,name1,age1,major1,gpa1,is_from_mass1):\n",
    "        self.name=name1\n",
    "        self.major=major1\n",
    "        self.age=age1\n",
    "        self.gpa=gpa1\n",
    "        self.is_from_mass=is_from_mass1\n",
    "\n",
    "student1=Student(\"peter\", 19, \"ECE\", 3.7, True)\n",
    "#edit attribute\n",
    "student1.name=\"pete\"\n",
    "print(student1.name,student1.age)\n",
    "#attributes can have default values, or initialized as None        "
   ]
  },
  {
   "attachments": {},
   "cell_type": "markdown",
   "metadata": {},
   "source": [
    "complememnt - list of data objets\n",
    "a list can contain a sequence of data objects\n"
   ]
  },
  {
   "cell_type": "code",
   "execution_count": null,
   "metadata": {},
   "outputs": [],
   "source": [
    "student1=Student(\"peter\", 19)\n",
    "student2=Student(\"ava\", 18)\n",
    "for students in students:\n",
    "    print(student.name)\n",
    "for i in range(len(students)):\n",
    "    print(students[i].name)\n"
   ]
  },
  {
   "cell_type": "code",
   "execution_count": 1,
   "metadata": {},
   "outputs": [
    {
     "name": "stdout",
     "output_type": "stream",
     "text": [
      "peter\n",
      "[95, 87]\n",
      "123\n"
     ]
    }
   ],
   "source": [
    "\n",
    "class Gps:\n",
    "    def __init__(self, lat=(),long=()):\n",
    "        self.latitude=lat\n",
    "        self.longitude=long\n",
    "class Student:\n",
    "    def __init__(self,name=None,grades=[],location=Gps()):\n",
    "        self.name=name\n",
    "        self.grades=grades\n",
    "        self.location=location\n",
    "\n",
    "\n",
    "loc1 = Gps(123,45)\n",
    "student1=Student(\"peter\",[95,87], loc1)\n",
    "print(student1.name)\n",
    "print(student1.grades)\n",
    "print(student1.location.latitude)"
   ]
  }
 ],
 "metadata": {
  "kernelspec": {
   "display_name": "Python 3",
   "language": "python",
   "name": "python3"
  },
  "language_info": {
   "codemirror_mode": {
    "name": "ipython",
    "version": 3
   },
   "file_extension": ".py",
   "mimetype": "text/x-python",
   "name": "python",
   "nbconvert_exporter": "python",
   "pygments_lexer": "ipython3",
   "version": "3.11.1"
  },
  "orig_nbformat": 4
 },
 "nbformat": 4,
 "nbformat_minor": 2
}
